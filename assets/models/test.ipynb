{
 "cells": [
  {
   "cell_type": "markdown",
   "metadata": {},
   "source": [
    "# Создание модели и конвертация в ONNX"
   ]
  },
  {
   "cell_type": "code",
   "execution_count": 7,
   "metadata": {},
   "outputs": [],
   "source": [
    "import torch\n",
    "import segmentation_models_pytorch as smp\n",
    "import timm"
   ]
  },
  {
   "cell_type": "code",
   "execution_count": 8,
   "metadata": {},
   "outputs": [],
   "source": [
    "# model = timm.create_model(\n",
    "#         'mobilenetv3_large_100',\n",
    "#         num_classes=10,\n",
    "#         in_chans=3,\n",
    "#         pretrained=True,\n",
    "#         exportable=True,\n",
    "#     )"
   ]
  },
  {
   "cell_type": "code",
   "execution_count": 9,
   "metadata": {},
   "outputs": [],
   "source": [
    "model = smp.create_model(\n",
    "    'unet',\n",
    "    'mobilenet_v2',\n",
    "    encoder_depth=4,\n",
    "    decoder_channels=(128, 64, 32, 16),\n",
    "    classes=11\n",
    ")   \n",
    "model = model.half()"
   ]
  },
  {
   "cell_type": "code",
   "execution_count": 10,
   "metadata": {},
   "outputs": [
    {
     "data": {
      "text/plain": [
       "torch.Size([1, 11, 384, 384])"
      ]
     },
     "execution_count": 10,
     "metadata": {},
     "output_type": "execute_result"
    }
   ],
   "source": [
    "model.eval()\n",
    "model.to('cuda')\n",
    "\n",
    "test_image = torch.randn(1, 3, 384 , 384, requires_grad=False).half().to('cuda')\n",
    "orig_out = model(test_image)\n",
    "orig_out.shape"
   ]
  },
  {
   "cell_type": "code",
   "execution_count": 11,
   "metadata": {},
   "outputs": [
    {
     "name": "stderr",
     "output_type": "stream",
     "text": [
      "/tmp/ipykernel_60536/2706819781.py:1: FutureWarning: 'torch.onnx._export' is deprecated in version 1.12.0 and will be removed in 2.0. Please use `torch.onnx.export` instead.\n",
      "  torch_out = torch.onnx._export(\n"
     ]
    }
   ],
   "source": [
    "torch_out = torch.onnx._export(\n",
    "        model,\n",
    "        test_image,\n",
    "        'model.onnx',\n",
    "        training=torch.onnx.TrainingMode.EVAL,\n",
    "        export_params=True,\n",
    "        input_names=[\"input0\"],\n",
    "        output_names=[\"output0\"],\n",
    "        operator_export_type=torch.onnx.OperatorExportTypes.ONNX\n",
    "    )"
   ]
  },
  {
   "cell_type": "markdown",
   "metadata": {},
   "source": [
    "# Проверка работоспособности модели"
   ]
  },
  {
   "cell_type": "code",
   "execution_count": 13,
   "metadata": {},
   "outputs": [
    {
     "name": "stderr",
     "output_type": "stream",
     "text": [
      "/home/arseniyzemerov/.local/lib/python3.8/site-packages/onnxruntime/capi/onnxruntime_inference_collection.py:69: UserWarning: Specified provider 'TensorrtExecutionProvider' is not in available provider names.Available providers: 'AzureExecutionProvider, CPUExecutionProvider'\n",
      "  warnings.warn(\n"
     ]
    }
   ],
   "source": [
    "import onnx\n",
    "\n",
    "onnx_model = onnx.load('model.onnx')\n",
    "onnx.checker.check_model(onnx_model, full_check=True)\n",
    "\n",
    "def onnx_forward(onnx_file, example_input):\n",
    "    import onnxruntime\n",
    "\n",
    "    sess_options = onnxruntime.SessionOptions()\n",
    "    session = onnxruntime.InferenceSession(onnx_file, providers=['TensorrtExecutionProvider'])\n",
    "    input_name = session.get_inputs()[0].name\n",
    "    output = session.run([], {input_name: example_input.cpu().numpy()})\n",
    "    output = output[0]\n",
    "    return output\n",
    "\n",
    "import numpy as np\n",
    "onnx_out = onnx_forward('model.onnx', test_image)\n",
    "np.testing.assert_almost_equal(torch_out.data.cpu().numpy(), onnx_out, decimal=1)\n",
    "np.testing.assert_almost_equal(orig_out.data.cpu().numpy(), torch_out.data.cpu().numpy(), decimal=1)"
   ]
  },
  {
   "cell_type": "code",
   "execution_count": null,
   "metadata": {},
   "outputs": [],
   "source": []
  },
  {
   "cell_type": "code",
   "execution_count": null,
   "metadata": {},
   "outputs": [],
   "source": []
  }
 ],
 "metadata": {
  "kernelspec": {
   "display_name": "Python 3",
   "language": "python",
   "name": "python3"
  },
  "language_info": {
   "codemirror_mode": {
    "name": "ipython",
    "version": 3
   },
   "file_extension": ".py",
   "mimetype": "text/x-python",
   "name": "python",
   "nbconvert_exporter": "python",
   "pygments_lexer": "ipython3",
   "version": "3.8.10"
  }
 },
 "nbformat": 4,
 "nbformat_minor": 2
}
